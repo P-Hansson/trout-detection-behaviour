{
 "cells": [
  {
   "cell_type": "code",
   "execution_count": null,
   "id": "d8c4e653",
   "metadata": {},
   "outputs": [],
   "source": [
    "#### Extract jpg for boundaries\n",
    "\n",
    "import cv2\n",
    "import os\n",
    "import shutil\n",
    "import time\n",
    "\n",
    "def clear_filepath(directory):\n",
    "    for dirpath,_, filenames in os.walk(directory):\n",
    "        for files in filenames:\n",
    "            if not files.startswith(\".\"):\n",
    "                yield os.path.abspath(os.path.join(dirpath,files))\n",
    "\n",
    "dir_vids = \"videos/to_analyse/all\"\n",
    "video_list_path = list(clear_filepath(dir_vids))\n",
    "print(video_list_path)\n",
    "done_imgs = list(clear_filepath(\"images/boundary\"))\n",
    "print(time.localtime()[3], \":\", time.localtime()[4], \":\", time.localtime()[5])\n",
    "\n",
    "for video in video_list_path:\n",
    "    vid_name = os.path.basename(video)\n",
    "    img_name = vid_name.removesuffix(\".mp4\") + \".jpg\"\n",
    "    dest_img = (\"images/boundary/\" + img_name)\n",
    "    if img_name in done_imgs:\n",
    "        print(vid_name, \"skip\")\n",
    "        continue\n",
    "    \n",
    "    print(vid_name)\n",
    "    vidcap = cv2.VideoCapture(video)\n",
    "    if not vidcap.isOpened():\n",
    "        print(\"Cannot open input video file\")\n",
    "        sys.exit()\n",
    "    \n",
    "    ok, frame = vidcap.read()\n",
    "    if not ok:\n",
    "        print(\"Cannot read video file\")\n",
    "        sys.exit\n",
    "    \n",
    "    frame_counter = 1\n",
    "    while True:\n",
    "        if frame_counter == 3500:\n",
    "            cv2.imwrite(dest_img, frame)\n",
    "            break\n",
    "        \n",
    "        ok, frame = vidcap.read()\n",
    "        if not ok:\n",
    "            break\n",
    "        \n",
    "        frame_counter += 1\n",
    "    \n",
    "    print(\"Done video\")\n",
    "    print(time.localtime()[3], \":\", time.localtime()[4], \":\", time.localtime()[5])\n",
    "    vidcap.release()\n",
    "    \n",
    "print(\"Done\")"
   ]
  }
 ],
 "metadata": {
  "kernelspec": {
   "display_name": "Python 3 (ipykernel)",
   "language": "python",
   "name": "python3"
  },
  "language_info": {
   "codemirror_mode": {
    "name": "ipython",
    "version": 3
   },
   "file_extension": ".py",
   "mimetype": "text/x-python",
   "name": "python",
   "nbconvert_exporter": "python",
   "pygments_lexer": "ipython3",
   "version": "3.9.13"
  }
 },
 "nbformat": 4,
 "nbformat_minor": 5
}
